{
 "cells": [
  {
   "cell_type": "code",
   "execution_count": 2,
   "id": "6bb9d6eb-d0f5-4dbe-ad49-399f644b4429",
   "metadata": {},
   "outputs": [],
   "source": [
    "from glob import glob "
   ]
  },
  {
   "cell_type": "code",
   "execution_count": 8,
   "id": "4e05f46b-00d3-4fb3-a5cf-dafb92a7a62b",
   "metadata": {},
   "outputs": [],
   "source": [
    "TDC = glob(\"C:/Users/ssr17/EEG dataset of individuals with intellectual and developmental disorder and healthy controls while observing rest and musical stimulus/Data/CleanData/CleanData_TDC/Rest/*.mat\")\n",
    "IDD = glob(\"C:/Users/ssr17/EEG dataset of individuals with intellectual and developmental disorder and healthy controls while observing rest and musical stimulus/Data/CleanData/CleanData_IDD/Rest/*.mat\")"
   ]
  },
  {
   "cell_type": "code",
   "execution_count": 19,
   "id": "8ffc661d-a6aa-433a-9572-d5be37e8c075",
   "metadata": {},
   "outputs": [],
   "source": [
    "import scipy.io\n",
    "for idd in IDD:\n",
    "    data = scipy.io.loadmat(idd)\n",
    "    break"
   ]
  },
  {
   "cell_type": "code",
   "execution_count": 23,
   "id": "2cd7f126-e90e-401e-a91b-a16f80e735b6",
   "metadata": {},
   "outputs": [
    {
     "data": {
      "text/plain": [
       "dict_keys(['__header__', '__version__', '__globals__', 'clean_data'])"
      ]
     },
     "execution_count": 23,
     "metadata": {},
     "output_type": "execute_result"
    }
   ],
   "source": [
    "data.keys()"
   ]
  },
  {
   "cell_type": "code",
   "execution_count": 25,
   "id": "1d141701-aaf1-4cf4-9614-c57297c8804c",
   "metadata": {},
   "outputs": [
    {
     "data": {
      "text/plain": [
       "(14, 15360)"
      ]
     },
     "execution_count": 25,
     "metadata": {},
     "output_type": "execute_result"
    }
   ],
   "source": [
    "data=data['clean_data']\n",
    "data.shape"
   ]
  },
  {
   "cell_type": "code",
   "execution_count": null,
   "id": "4db2d361-5e19-42a6-aaed-5e5fac611b39",
   "metadata": {},
   "outputs": [],
   "source": []
  }
 ],
 "metadata": {
  "kernelspec": {
   "display_name": "Python [conda env:base] *",
   "language": "python",
   "name": "conda-base-py"
  },
  "language_info": {
   "codemirror_mode": {
    "name": "ipython",
    "version": 3
   },
   "file_extension": ".py",
   "mimetype": "text/x-python",
   "name": "python",
   "nbconvert_exporter": "python",
   "pygments_lexer": "ipython3",
   "version": "3.12.7"
  }
 },
 "nbformat": 4,
 "nbformat_minor": 5
}
